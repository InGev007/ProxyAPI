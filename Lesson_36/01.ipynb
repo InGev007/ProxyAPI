{
  "cells": [
    {
      "cell_type": "markdown",
      "source": [
        "# Завдання 1\n",
        "Проведіть крос-валідацію для моделі, побудованої на основі датафрейму `student_scores.csv` з попереднього завдання. Обґрунтуйте обраний метод крос-валідації.\n",
        "\n",
        "## Рішення"
      ],
      "metadata": {
        "collapsed": false,
        "id": "3lAmEM5zTfM_"
      }
    },
    {
      "cell_type": "code",
      "execution_count": null,
      "outputs": [
        {
          "name": "stdout",
          "output_type": "stream",
          "text": [
            "Відхилення: 0.96\n"
          ]
        }
      ],
      "source": [
        "import pandas as pd\n",
        "import numpy as np\n",
        "from sklearn.linear_model import LinearRegression\n",
        "from sklearn.model_selection import cross_val_score, KFold, train_test_split\n",
        "\n",
        "# Завантаження даних\n",
        "data = pd.read_csv('https://raw.githubusercontent.com/Aranaur/StartUP-IT-Academy/master/Lesson_35/student_scores.csv')\n",
        "\n",
        "# Розділення даних на X та y\n",
        "X = data.drop('Scores', axis=1)\n",
        "y = data['Scores']\n",
        "\n",
        "# Створення лінійної регресії\n",
        "regressor = LinearRegression()\n",
        "\n",
        "# Встановлення кількості фолдів\n",
        "kfold = KFold(n_splits=5, shuffle=True, random_state=2023)\n",
        "\n",
        "# Проведення крос-валідації\n",
        "scores = cross_val_score(regressor, X, y, cv=kfold)\n",
        "\n",
        "# Виведення середнього значення оцінки та стандартної помилки\n",
        "print(f\"Відхилення: {round(np.sqrt(scores.mean()), 2)}\")"
      ],
      "metadata": {
        "id": "ZoYmzNTjTfNH",
        "outputId": "9625fe55-3a04-418d-bb7c-828142c446c7"
      }
    },
    {
      "cell_type": "markdown",
      "source": [
        "Крос-валідація дозволяє краще оцінити ефективність моделі, оскільки модель \"будується\" на декількох підвибірках даних, що дозволяє оцінити її стійкість до різноманіття даних."
      ],
      "metadata": {
        "collapsed": false,
        "id": "KzZxB-QOTfNO"
      }
    }
  ],
  "metadata": {
    "kernelspec": {
      "display_name": "Python 3",
      "language": "python",
      "name": "python3"
    },
    "language_info": {
      "codemirror_mode": {
        "name": "ipython",
        "version": 2
      },
      "file_extension": ".py",
      "mimetype": "text/x-python",
      "name": "python",
      "nbconvert_exporter": "python",
      "pygments_lexer": "ipython2",
      "version": "2.7.6"
    },
    "colab": {
      "provenance": []
    }
  },
  "nbformat": 4,
  "nbformat_minor": 0
}